{
 "cells": [
  {
   "cell_type": "code",
   "execution_count": 35,
   "metadata": {
    "collapsed": true
   },
   "outputs": [],
   "source": [
    "import mglearn\n",
    "from sklearn.model_selection import train_test_split\n",
    "from sklearn.linear_model import LinearRegression\n",
    "import numpy as np\n",
    "import pandas as pd\n",
    "from sklearn.linear_model import Ridge\n",
    "from sklearn.linear_model import Lasso\n",
    "\n",
    "from sklearn.preprocessing import StandardScaler\n",
    "from sklearn.preprocessing import MinMaxScaler\n",
    "import matplotlib.pyplot as plt"
   ]
  },
  {
   "cell_type": "code",
   "execution_count": 36,
   "outputs": [
    {
     "name": "stderr",
     "output_type": "stream",
     "text": [
      "C:\\Users\\sangm\\PycharmProjects\\pythonProject\\venv\\lib\\site-packages\\sklearn\\utils\\deprecation.py:87: FutureWarning: Function load_boston is deprecated; `load_boston` is deprecated in 1.0 and will be removed in 1.2.\n",
      "\n",
      "    The Boston housing prices dataset has an ethical problem. You can refer to\n",
      "    the documentation of this function for further details.\n",
      "\n",
      "    The scikit-learn maintainers therefore strongly discourage the use of this\n",
      "    dataset unless the purpose of the code is to study and educate about\n",
      "    ethical issues in data science and machine learning.\n",
      "\n",
      "    In this special case, you can fetch the dataset from the original\n",
      "    source::\n",
      "\n",
      "        import pandas as pd\n",
      "        import numpy as np\n",
      "\n",
      "\n",
      "        data_url = \"http://lib.stat.cmu.edu/datasets/boston\"\n",
      "        raw_df = pd.read_csv(data_url, sep=\"\\s+\", skiprows=22, header=None)\n",
      "        data = np.hstack([raw_df.values[::2, :], raw_df.values[1::2, :2]])\n",
      "        target = raw_df.values[1::2, 2]\n",
      "\n",
      "    Alternative datasets include the California housing dataset (i.e.\n",
      "    :func:`~sklearn.datasets.fetch_california_housing`) and the Ames housing\n",
      "    dataset. You can load the datasets as follows::\n",
      "\n",
      "        from sklearn.datasets import fetch_california_housing\n",
      "        housing = fetch_california_housing()\n",
      "\n",
      "    for the California housing dataset and::\n",
      "\n",
      "        from sklearn.datasets import fetch_openml\n",
      "        housing = fetch_openml(name=\"house_prices\", as_frame=True)\n",
      "\n",
      "    for the Ames housing dataset.\n",
      "    \n",
      "  warnings.warn(msg, category=FutureWarning)\n"
     ]
    }
   ],
   "source": [
    "X, y = mglearn.datasets.load_extended_boston()\n",
    "X_train, X_test, y_train, y_test = train_test_split(X, y, random_state = 0)"
   ],
   "metadata": {
    "collapsed": false,
    "pycharm": {
     "name": "#%%\n"
    }
   }
  },
  {
   "cell_type": "markdown",
   "source": [
    "## Linear Regression"
   ],
   "metadata": {
    "collapsed": false,
    "pycharm": {
     "name": "#%% md\n"
    }
   }
  },
  {
   "cell_type": "code",
   "execution_count": 37,
   "outputs": [
    {
     "name": "stdout",
     "output_type": "stream",
     "text": [
      "[22.6 50.  23.   8.3 21.2 19.9 20.6 18.7 16.1 18.6  8.8 17.2 14.9 10.5\n",
      " 50.  29.  23.  33.3 29.4 21.  23.8 19.1 20.4 29.1 19.3 23.1 19.6 19.4\n",
      " 38.7 18.7 14.6 20.  20.5 20.1 23.6 16.8  5.6 50.  14.5 13.3 23.9 20.\n",
      " 19.8 13.8 16.5 21.6 20.3 17.  11.8 27.5 15.6 23.1 24.3 42.8 15.6 21.7\n",
      " 17.1 17.2 15.  21.7 18.6 21.  33.1 31.5 20.1 29.8 15.2 15.  27.5 22.6\n",
      " 20.  21.4 23.5 31.2 23.7  7.4 48.3 24.4 22.6 18.3 23.3 17.1 27.9 44.8\n",
      " 50.  23.  21.4 10.2 23.3 23.2 18.9 13.4 21.9 24.8 11.9 24.3 13.8 24.7\n",
      " 14.1 18.7 28.1 19.8 26.7 21.7 22.  22.9 10.4 21.9 20.6 26.4 41.3 17.2\n",
      " 27.1 20.4 16.5 24.4  8.4 23.   9.7 50.  30.5 12.3 19.4 21.2 20.3 18.8\n",
      " 33.4]\n",
      "[ 23.65294082  26.73756431  29.61078314  10.15490293  19.63821608\n",
      "  19.69567722  22.04569772  20.8219241   11.62647856  17.55251923\n",
      "   6.02831471  13.30819476  14.08746399   8.24933315  48.92086715\n",
      "  35.54459237  23.67706411  37.23811936  32.28994966  22.44461026\n",
      "  25.04445792  21.34495855  20.89993569  27.34950626  18.20884762\n",
      "  30.05914961  16.38882367  18.27410131  34.58728224  13.84776749\n",
      "  16.56901813  18.20821168  20.00399253  19.68630353  26.44755882\n",
      "  16.35902867   7.10012009  36.71844063  16.76163017  13.4975915\n",
      "  22.14796642  19.86834244  19.74483033  19.04895022  11.823238\n",
      "  22.30991276  17.95961579   9.9207432   12.34654968  23.09629767\n",
      " -26.05316354  25.18108608  20.72351713  52.44146808   5.7506184\n",
      "  21.16062991  16.67681922  17.94789708  17.07672773  19.79482458\n",
      "  23.94848059  21.07920154  33.14839064  29.17411146  19.31538063\n",
      "  30.77385559  15.19001363  19.27968125  14.28902591  21.0217457\n",
      "  18.17979319  21.77419932  27.27988436  29.59118561  28.01422907\n",
      "   9.30237051  41.98096212  23.57185114  26.31853086  19.07604318\n",
      "  26.31654757  18.68443745  21.82845944  41.76250816  44.12433801\n",
      "  24.75612697  23.00111462  12.36563547  32.97750424  15.883512\n",
      "  18.83795677   9.18828122  21.12990826  29.96045985  17.69264721\n",
      "  21.70124105  13.25650224  24.96092522  13.6714964   15.60548478\n",
      "  25.38906925  19.15962141  30.84958417  19.3180996   27.06140523\n",
      "  19.93887424   7.83712161  20.29586097  18.22177943  25.73460894\n",
      "  36.21513111  13.7796668   16.79165488  19.17926261  15.27289768\n",
      "  19.34749235   6.24016005  20.50524461  11.22369929  51.59743425\n",
      "  28.7954706   11.24042043  17.25143184  21.4161027   19.72865917\n",
      "  19.28660344  36.92350037]\n"
     ]
    }
   ],
   "source": [
    "linear_regression = LinearRegression()\n",
    "linear_regression.fit(X_train, y_train)\n",
    "\n",
    "y_test_hat = linear_regression.predict(X_test)\n",
    "print(y_test)\n",
    "print(y_test_hat)"
   ],
   "metadata": {
    "collapsed": false,
    "pycharm": {
     "name": "#%%\n"
    }
   }
  },
  {
   "cell_type": "markdown",
   "source": [],
   "metadata": {
    "collapsed": false
   }
  },
  {
   "cell_type": "code",
   "execution_count": 38,
   "outputs": [
    {
     "name": "stdout",
     "output_type": "stream",
     "text": [
      "Training set score: 0.952\n",
      "Test set score: 0.607\n"
     ]
    }
   ],
   "source": [
    "print(\"Training set score: {:.3f}\".format(linear_regression.score(X_train, y_train)))\n",
    "print(\"Test set score: {:.3f}\".format(linear_regression.score(X_test, y_test)))"
   ],
   "metadata": {
    "collapsed": false,
    "pycharm": {
     "name": "#%%\n"
    }
   }
  },
  {
   "cell_type": "markdown",
   "source": [
    "## Lasso"
   ],
   "metadata": {
    "collapsed": false,
    "pycharm": {
     "name": "#%% md\n"
    }
   }
  },
  {
   "cell_type": "code",
   "execution_count": 39,
   "outputs": [
    {
     "name": "stdout",
     "output_type": "stream",
     "text": [
      "0.1Training set score: 0.771\n",
      "0.1Test set score: 0.630\n",
      "0.2Training set score: 0.737\n",
      "0.2Test set score: 0.599\n",
      "0.3Training set score: 0.707\n",
      "0.3Test set score: 0.577\n",
      "0.4Training set score: 0.666\n",
      "0.4Test set score: 0.543\n",
      "0.5Training set score: 0.614\n",
      "0.5Test set score: 0.496\n",
      "0.6Training set score: 0.551\n",
      "0.6Test set score: 0.436\n",
      "0.7Training set score: 0.487\n",
      "0.7Test set score: 0.378\n",
      "0.8Training set score: 0.419\n",
      "0.8Test set score: 0.317\n",
      "0.9Training set score: 0.354\n",
      "0.9Test set score: 0.259\n",
      "1.0Training set score: 0.293\n",
      "1.0Test set score: 0.209\n",
      "1.1Training set score: 0.230\n",
      "1.1Test set score: 0.156\n",
      "1.2Training set score: 0.160\n",
      "1.2Test set score: 0.096\n",
      "1.3Training set score: 0.113\n",
      "1.3Test set score: 0.067\n",
      "1.4Training set score: 0.071\n",
      "1.4Test set score: 0.045\n",
      "1.5Training set score: 0.030\n",
      "1.5Test set score: 0.021\n",
      "1.6Training set score: 0.010\n",
      "1.6Test set score: 0.007\n",
      "1.7Training set score: 0.000\n",
      "1.7Test set score: -0.001\n",
      "1.8Training set score: 0.000\n",
      "1.8Test set score: -0.001\n",
      "1.9Training set score: 0.000\n",
      "1.9Test set score: -0.001\n",
      "2.0Training set score: 0.000\n",
      "2.0Test set score: -0.001\n"
     ]
    },
    {
     "data": {
      "text/plain": "<Figure size 432x288 with 1 Axes>",
      "image/png": "[encoded data removed]"
     },
     "metadata": {
      "needs_background": "light"
     },
     "output_type": "display_data"
    },
    {
     "name": "stdout",
     "output_type": "stream",
     "text": [
      "0.6302009976110041 0\n"
     ]
    }
   ],
   "source": [
    "test_score_list_lasso = []\n",
    "for k in [*range(1,21)]:\n",
    "    i = k/10\n",
    "    lasso = Lasso(alpha= i)\n",
    "    lasso.fit(X_train, y_train)\n",
    "    y_test_hat = lasso.predict(X_test)\n",
    "    print(\"{}Training set score: {:.3f}\".format(i,lasso.score(X_train, y_train)))\n",
    "    print(\"{}Test set score: {:.3f}\".format(i,lasso.score(X_test, y_test)))\n",
    "    test_score_list_lasso.append(lasso.score(X_test, y_test))\n",
    "plt.plot([*range(1,21)], test_score_list_lasso)\n",
    "plt.show()\n",
    "print(max(test_score_list_lasso),test_score_list_lasso.index(max(test_score_list_lasso)))"
   ],
   "metadata": {
    "collapsed": false,
    "pycharm": {
     "name": "#%%\n"
    }
   }
  },
  {
   "cell_type": "markdown",
   "source": [
    "## Ridge"
   ],
   "metadata": {
    "collapsed": false
   }
  },
  {
   "cell_type": "code",
   "execution_count": 40,
   "outputs": [
    {
     "name": "stdout",
     "output_type": "stream",
     "text": [
      "0.1Training set score: 0.928\n",
      "0.1Test set score: 0.772\n",
      "0.2Training set score: 0.920\n",
      "0.2Test set score: 0.775\n",
      "0.3Training set score: 0.914\n",
      "0.3Test set score: 0.773\n",
      "0.4Training set score: 0.908\n",
      "0.4Test set score: 0.771\n",
      "0.5Training set score: 0.904\n",
      "0.5Test set score: 0.768\n",
      "0.6Training set score: 0.900\n",
      "0.6Test set score: 0.765\n",
      "0.7Training set score: 0.896\n",
      "0.7Test set score: 0.761\n",
      "0.8Training set score: 0.892\n",
      "0.8Test set score: 0.759\n",
      "0.9Training set score: 0.889\n",
      "0.9Test set score: 0.756\n",
      "1.0Training set score: 0.886\n",
      "1.0Test set score: 0.753\n",
      "1.1Training set score: 0.883\n",
      "1.1Test set score: 0.750\n",
      "1.2Training set score: 0.880\n",
      "1.2Test set score: 0.747\n",
      "1.3Training set score: 0.877\n",
      "1.3Test set score: 0.745\n",
      "1.4Training set score: 0.875\n",
      "1.4Test set score: 0.742\n",
      "1.5Training set score: 0.873\n",
      "1.5Test set score: 0.740\n",
      "1.6Training set score: 0.870\n",
      "1.6Test set score: 0.737\n",
      "1.7Training set score: 0.868\n",
      "1.7Test set score: 0.735\n",
      "1.8Training set score: 0.866\n",
      "1.8Test set score: 0.733\n",
      "1.9Training set score: 0.864\n",
      "1.9Test set score: 0.731\n",
      "2.0Training set score: 0.862\n",
      "2.0Test set score: 0.728\n",
      "0.7749447069768612 1\n"
     ]
    },
    {
     "data": {
      "text/plain": "<Figure size 432x288 with 1 Axes>",
      "image/png": "[encoded data removed]"
     },
     "metadata": {
      "needs_background": "light"
     },
     "output_type": "display_data"
    }
   ],
   "source": [
    "test_score_list_Ridge = []\n",
    "for k in [*range(1,21)]:\n",
    "    i = k/10\n",
    "    ridge = Ridge(alpha= i)\n",
    "    ridge.fit(X_train, y_train)\n",
    "    y_test_hat = ridge.predict(X_test)\n",
    "    print(\"{}Training set score: {:.3f}\".format(i,ridge.score(X_train, y_train)))\n",
    "    print(\"{}Test set score: {:.3f}\".format(i,ridge.score(X_test, y_test)))\n",
    "    test_score_list_Ridge.append(ridge.score(X_test, y_test))\n",
    "\n",
    "plt.plot([*range(1,21)],test_score_list_Ridge)\n",
    "print(max(test_score_list_Ridge),test_score_list_Ridge.index(max(test_score_list_Ridge)))"
   ],
   "metadata": {
    "collapsed": false,
    "pycharm": {
     "name": "#%%\n"
    }
   }
  },
  {
   "cell_type": "code",
   "execution_count": 40,
   "outputs": [],
   "source": [],
   "metadata": {
    "collapsed": false,
    "pycharm": {
     "name": "#%%\n"
    }
   }
  }
 ],
 "metadata": {
  "kernelspec": {
   "display_name": "Python 3",
   "language": "python",
   "name": "python3"
  },
  "language_info": {
   "codemirror_mode": {
    "name": "ipython",
    "version": 2
   },
   "file_extension": ".py",
   "mimetype": "text/x-python",
   "name": "python",
   "nbconvert_exporter": "python",
   "pygments_lexer": "ipython2",
   "version": "2.7.6"
  }
 },
 "nbformat": 4,
 "nbformat_minor": 0
}